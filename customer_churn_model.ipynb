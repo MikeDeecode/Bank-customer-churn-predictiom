{
  "nbformat": 4,
  "nbformat_minor": 0,
  "metadata": {
    "colab": {
      "name": "customer churn model.ipynb",
      "provenance": [],
      "authorship_tag": "ABX9TyN6v7zaxze4ZIIZsKDx1EGQ",
      "include_colab_link": true
    },
    "kernelspec": {
      "name": "python3",
      "display_name": "Python 3"
    }
  },
  "cells": [
    {
      "cell_type": "markdown",
      "metadata": {
        "id": "view-in-github",
        "colab_type": "text"
      },
      "source": [
        "<a href=\"https://colab.research.google.com/github/MikeDeecode/Bank-customer-churn-predictiom/blob/master/customer_churn_model.ipynb\" target=\"_parent\"><img src=\"https://colab.research.google.com/assets/colab-badge.svg\" alt=\"Open In Colab\"/></a>"
      ]
    },
    {
      "cell_type": "markdown",
      "metadata": {
        "id": "FyrO_L3mLf8Z",
        "colab_type": "text"
      },
      "source": [
        "#**USING LOGISTIC REGRESSION TO PREDICT IF A BANK CUSTOMER WILL EXIT OR NOT**"
      ]
    },
    {
      "cell_type": "code",
      "metadata": {
        "id": "MPIjDqpjKHLE",
        "colab_type": "code",
        "colab": {
          "base_uri": "https://localhost:8080/",
          "height": 35
        },
        "outputId": "67f99ecf-f5ab-4d83-e30d-169bf30e0025"
      },
      "source": [
        "import numpy as np \n",
        "import pandas as pd \n",
        "import warnings\n",
        "warnings.filterwarnings(\"ignore\")\n",
        "\n",
        "print(\"Setup Complete\")"
      ],
      "execution_count": 5,
      "outputs": [
        {
          "output_type": "stream",
          "text": [
            "Setup Complete\n"
          ],
          "name": "stdout"
        }
      ]
    },
    {
      "cell_type": "markdown",
      "metadata": {
        "id": "yzbKstFILtG2",
        "colab_type": "text"
      },
      "source": [
        "Import the dataset "
      ]
    },
    {
      "cell_type": "code",
      "metadata": {
        "id": "5u2Enz2MKXge",
        "colab_type": "code",
        "colab": {
          "base_uri": "https://localhost:8080/",
          "height": 35
        },
        "outputId": "54f3a7fe-96e6-4aa5-9e65-ad356dd7c10b"
      },
      "source": [
        "customers = pd.read_csv(\"/content/Bank customers.csv\")\n",
        "\n",
        "print(\"upload successful\")"
      ],
      "execution_count": 6,
      "outputs": [
        {
          "output_type": "stream",
          "text": [
            "upload successful\n"
          ],
          "name": "stdout"
        }
      ]
    },
    {
      "cell_type": "code",
      "metadata": {
        "id": "UON9J7pyL_h1",
        "colab_type": "code",
        "colab": {
          "base_uri": "https://localhost:8080/",
          "height": 216
        },
        "outputId": "c97ca651-8320-471f-cd7b-8bb10417660b"
      },
      "source": [
        "customers.head()"
      ],
      "execution_count": 7,
      "outputs": [
        {
          "output_type": "execute_result",
          "data": {
            "text/html": [
              "<div>\n",
              "<style scoped>\n",
              "    .dataframe tbody tr th:only-of-type {\n",
              "        vertical-align: middle;\n",
              "    }\n",
              "\n",
              "    .dataframe tbody tr th {\n",
              "        vertical-align: top;\n",
              "    }\n",
              "\n",
              "    .dataframe thead th {\n",
              "        text-align: right;\n",
              "    }\n",
              "</style>\n",
              "<table border=\"1\" class=\"dataframe\">\n",
              "  <thead>\n",
              "    <tr style=\"text-align: right;\">\n",
              "      <th></th>\n",
              "      <th>RowNumber</th>\n",
              "      <th>CustomerId</th>\n",
              "      <th>Surname</th>\n",
              "      <th>CreditScore</th>\n",
              "      <th>Geography</th>\n",
              "      <th>Gender</th>\n",
              "      <th>Age</th>\n",
              "      <th>Tenure</th>\n",
              "      <th>Balance</th>\n",
              "      <th>NumOfProducts</th>\n",
              "      <th>HasCrCard</th>\n",
              "      <th>IsActiveMember</th>\n",
              "      <th>EstimatedSalary</th>\n",
              "      <th>Exited</th>\n",
              "    </tr>\n",
              "  </thead>\n",
              "  <tbody>\n",
              "    <tr>\n",
              "      <th>0</th>\n",
              "      <td>1</td>\n",
              "      <td>15634602</td>\n",
              "      <td>Hargrave</td>\n",
              "      <td>619</td>\n",
              "      <td>France</td>\n",
              "      <td>Female</td>\n",
              "      <td>42</td>\n",
              "      <td>2</td>\n",
              "      <td>0.00</td>\n",
              "      <td>1</td>\n",
              "      <td>1</td>\n",
              "      <td>1</td>\n",
              "      <td>101348.88</td>\n",
              "      <td>1</td>\n",
              "    </tr>\n",
              "    <tr>\n",
              "      <th>1</th>\n",
              "      <td>2</td>\n",
              "      <td>15647311</td>\n",
              "      <td>Hill</td>\n",
              "      <td>608</td>\n",
              "      <td>Spain</td>\n",
              "      <td>Female</td>\n",
              "      <td>41</td>\n",
              "      <td>1</td>\n",
              "      <td>83807.86</td>\n",
              "      <td>1</td>\n",
              "      <td>0</td>\n",
              "      <td>1</td>\n",
              "      <td>112542.58</td>\n",
              "      <td>0</td>\n",
              "    </tr>\n",
              "    <tr>\n",
              "      <th>2</th>\n",
              "      <td>3</td>\n",
              "      <td>15619304</td>\n",
              "      <td>Onio</td>\n",
              "      <td>502</td>\n",
              "      <td>France</td>\n",
              "      <td>Female</td>\n",
              "      <td>42</td>\n",
              "      <td>8</td>\n",
              "      <td>159660.80</td>\n",
              "      <td>3</td>\n",
              "      <td>1</td>\n",
              "      <td>0</td>\n",
              "      <td>113931.57</td>\n",
              "      <td>1</td>\n",
              "    </tr>\n",
              "    <tr>\n",
              "      <th>3</th>\n",
              "      <td>4</td>\n",
              "      <td>15701354</td>\n",
              "      <td>Boni</td>\n",
              "      <td>699</td>\n",
              "      <td>France</td>\n",
              "      <td>Female</td>\n",
              "      <td>39</td>\n",
              "      <td>1</td>\n",
              "      <td>0.00</td>\n",
              "      <td>2</td>\n",
              "      <td>0</td>\n",
              "      <td>0</td>\n",
              "      <td>93826.63</td>\n",
              "      <td>0</td>\n",
              "    </tr>\n",
              "    <tr>\n",
              "      <th>4</th>\n",
              "      <td>5</td>\n",
              "      <td>15737888</td>\n",
              "      <td>Mitchell</td>\n",
              "      <td>850</td>\n",
              "      <td>Spain</td>\n",
              "      <td>Female</td>\n",
              "      <td>43</td>\n",
              "      <td>2</td>\n",
              "      <td>125510.82</td>\n",
              "      <td>1</td>\n",
              "      <td>1</td>\n",
              "      <td>1</td>\n",
              "      <td>79084.10</td>\n",
              "      <td>0</td>\n",
              "    </tr>\n",
              "  </tbody>\n",
              "</table>\n",
              "</div>"
            ],
            "text/plain": [
              "   RowNumber  CustomerId   Surname  ...  IsActiveMember EstimatedSalary Exited\n",
              "0          1    15634602  Hargrave  ...               1       101348.88      1\n",
              "1          2    15647311      Hill  ...               1       112542.58      0\n",
              "2          3    15619304      Onio  ...               0       113931.57      1\n",
              "3          4    15701354      Boni  ...               0        93826.63      0\n",
              "4          5    15737888  Mitchell  ...               1        79084.10      0\n",
              "\n",
              "[5 rows x 14 columns]"
            ]
          },
          "metadata": {
            "tags": []
          },
          "execution_count": 7
        }
      ]
    },
    {
      "cell_type": "code",
      "metadata": {
        "id": "fL2GUQD8OoeH",
        "colab_type": "code",
        "colab": {
          "base_uri": "https://localhost:8080/",
          "height": 35
        },
        "outputId": "fde124c4-d50a-40c4-8292-16e1535bb8e2"
      },
      "source": [
        "customers['Geography'].unique()"
      ],
      "execution_count": 8,
      "outputs": [
        {
          "output_type": "execute_result",
          "data": {
            "text/plain": [
              "array(['France', 'Spain', 'Germany'], dtype=object)"
            ]
          },
          "metadata": {
            "tags": []
          },
          "execution_count": 8
        }
      ]
    },
    {
      "cell_type": "code",
      "metadata": {
        "id": "3RDqCECGR2Xn",
        "colab_type": "code",
        "colab": {}
      },
      "source": [
        "customers['Geography'] = customers['Geography'].map({'France':0, 'Spain':1, 'Germany':2})\n",
        "customers['Gender'] = customers['Gender'].map({'Male':0, 'Female':1})"
      ],
      "execution_count": 9,
      "outputs": []
    },
    {
      "cell_type": "code",
      "metadata": {
        "id": "GhyyjECuSOdO",
        "colab_type": "code",
        "colab": {
          "base_uri": "https://localhost:8080/",
          "height": 216
        },
        "outputId": "230ad9af-eb93-4a2a-ddb3-d29b0f89bd46"
      },
      "source": [
        "customers.head()"
      ],
      "execution_count": 10,
      "outputs": [
        {
          "output_type": "execute_result",
          "data": {
            "text/html": [
              "<div>\n",
              "<style scoped>\n",
              "    .dataframe tbody tr th:only-of-type {\n",
              "        vertical-align: middle;\n",
              "    }\n",
              "\n",
              "    .dataframe tbody tr th {\n",
              "        vertical-align: top;\n",
              "    }\n",
              "\n",
              "    .dataframe thead th {\n",
              "        text-align: right;\n",
              "    }\n",
              "</style>\n",
              "<table border=\"1\" class=\"dataframe\">\n",
              "  <thead>\n",
              "    <tr style=\"text-align: right;\">\n",
              "      <th></th>\n",
              "      <th>RowNumber</th>\n",
              "      <th>CustomerId</th>\n",
              "      <th>Surname</th>\n",
              "      <th>CreditScore</th>\n",
              "      <th>Geography</th>\n",
              "      <th>Gender</th>\n",
              "      <th>Age</th>\n",
              "      <th>Tenure</th>\n",
              "      <th>Balance</th>\n",
              "      <th>NumOfProducts</th>\n",
              "      <th>HasCrCard</th>\n",
              "      <th>IsActiveMember</th>\n",
              "      <th>EstimatedSalary</th>\n",
              "      <th>Exited</th>\n",
              "    </tr>\n",
              "  </thead>\n",
              "  <tbody>\n",
              "    <tr>\n",
              "      <th>0</th>\n",
              "      <td>1</td>\n",
              "      <td>15634602</td>\n",
              "      <td>Hargrave</td>\n",
              "      <td>619</td>\n",
              "      <td>0</td>\n",
              "      <td>1</td>\n",
              "      <td>42</td>\n",
              "      <td>2</td>\n",
              "      <td>0.00</td>\n",
              "      <td>1</td>\n",
              "      <td>1</td>\n",
              "      <td>1</td>\n",
              "      <td>101348.88</td>\n",
              "      <td>1</td>\n",
              "    </tr>\n",
              "    <tr>\n",
              "      <th>1</th>\n",
              "      <td>2</td>\n",
              "      <td>15647311</td>\n",
              "      <td>Hill</td>\n",
              "      <td>608</td>\n",
              "      <td>1</td>\n",
              "      <td>1</td>\n",
              "      <td>41</td>\n",
              "      <td>1</td>\n",
              "      <td>83807.86</td>\n",
              "      <td>1</td>\n",
              "      <td>0</td>\n",
              "      <td>1</td>\n",
              "      <td>112542.58</td>\n",
              "      <td>0</td>\n",
              "    </tr>\n",
              "    <tr>\n",
              "      <th>2</th>\n",
              "      <td>3</td>\n",
              "      <td>15619304</td>\n",
              "      <td>Onio</td>\n",
              "      <td>502</td>\n",
              "      <td>0</td>\n",
              "      <td>1</td>\n",
              "      <td>42</td>\n",
              "      <td>8</td>\n",
              "      <td>159660.80</td>\n",
              "      <td>3</td>\n",
              "      <td>1</td>\n",
              "      <td>0</td>\n",
              "      <td>113931.57</td>\n",
              "      <td>1</td>\n",
              "    </tr>\n",
              "    <tr>\n",
              "      <th>3</th>\n",
              "      <td>4</td>\n",
              "      <td>15701354</td>\n",
              "      <td>Boni</td>\n",
              "      <td>699</td>\n",
              "      <td>0</td>\n",
              "      <td>1</td>\n",
              "      <td>39</td>\n",
              "      <td>1</td>\n",
              "      <td>0.00</td>\n",
              "      <td>2</td>\n",
              "      <td>0</td>\n",
              "      <td>0</td>\n",
              "      <td>93826.63</td>\n",
              "      <td>0</td>\n",
              "    </tr>\n",
              "    <tr>\n",
              "      <th>4</th>\n",
              "      <td>5</td>\n",
              "      <td>15737888</td>\n",
              "      <td>Mitchell</td>\n",
              "      <td>850</td>\n",
              "      <td>1</td>\n",
              "      <td>1</td>\n",
              "      <td>43</td>\n",
              "      <td>2</td>\n",
              "      <td>125510.82</td>\n",
              "      <td>1</td>\n",
              "      <td>1</td>\n",
              "      <td>1</td>\n",
              "      <td>79084.10</td>\n",
              "      <td>0</td>\n",
              "    </tr>\n",
              "  </tbody>\n",
              "</table>\n",
              "</div>"
            ],
            "text/plain": [
              "   RowNumber  CustomerId   Surname  ...  IsActiveMember  EstimatedSalary  Exited\n",
              "0          1    15634602  Hargrave  ...               1        101348.88       1\n",
              "1          2    15647311      Hill  ...               1        112542.58       0\n",
              "2          3    15619304      Onio  ...               0        113931.57       1\n",
              "3          4    15701354      Boni  ...               0         93826.63       0\n",
              "4          5    15737888  Mitchell  ...               1         79084.10       0\n",
              "\n",
              "[5 rows x 14 columns]"
            ]
          },
          "metadata": {
            "tags": []
          },
          "execution_count": 10
        }
      ]
    },
    {
      "cell_type": "markdown",
      "metadata": {
        "id": "hvDHxxcONA12",
        "colab_type": "text"
      },
      "source": [
        "##Data Preprocessing "
      ]
    },
    {
      "cell_type": "markdown",
      "metadata": {
        "id": "sxVUY9miNNFh",
        "colab_type": "text"
      },
      "source": [
        "First I will select my features "
      ]
    },
    {
      "cell_type": "code",
      "metadata": {
        "id": "iOk77AQgP3_s",
        "colab_type": "code",
        "colab": {
          "base_uri": "https://localhost:8080/",
          "height": 289
        },
        "outputId": "7056d1e5-8057-4430-dbf3-dcd82afd935a"
      },
      "source": [
        "x = np.asarray(customers[['CreditScore', 'Geography', 'Age', 'Tenure', 'Balance', 'NumOfProducts', 'HasCrCard', 'IsActiveMember', \n",
        "                          'EstimatedSalary']])\n",
        "x[0:5]"
      ],
      "execution_count": 11,
      "outputs": [
        {
          "output_type": "execute_result",
          "data": {
            "text/plain": [
              "array([[6.1900000e+02, 0.0000000e+00, 4.2000000e+01, 2.0000000e+00,\n",
              "        0.0000000e+00, 1.0000000e+00, 1.0000000e+00, 1.0000000e+00,\n",
              "        1.0134888e+05],\n",
              "       [6.0800000e+02, 1.0000000e+00, 4.1000000e+01, 1.0000000e+00,\n",
              "        8.3807860e+04, 1.0000000e+00, 0.0000000e+00, 1.0000000e+00,\n",
              "        1.1254258e+05],\n",
              "       [5.0200000e+02, 0.0000000e+00, 4.2000000e+01, 8.0000000e+00,\n",
              "        1.5966080e+05, 3.0000000e+00, 1.0000000e+00, 0.0000000e+00,\n",
              "        1.1393157e+05],\n",
              "       [6.9900000e+02, 0.0000000e+00, 3.9000000e+01, 1.0000000e+00,\n",
              "        0.0000000e+00, 2.0000000e+00, 0.0000000e+00, 0.0000000e+00,\n",
              "        9.3826630e+04],\n",
              "       [8.5000000e+02, 1.0000000e+00, 4.3000000e+01, 2.0000000e+00,\n",
              "        1.2551082e+05, 1.0000000e+00, 1.0000000e+00, 1.0000000e+00,\n",
              "        7.9084100e+04]])"
            ]
          },
          "metadata": {
            "tags": []
          },
          "execution_count": 11
        }
      ]
    },
    {
      "cell_type": "code",
      "metadata": {
        "id": "-QaXU4kpSuaY",
        "colab_type": "code",
        "colab": {
          "base_uri": "https://localhost:8080/",
          "height": 35
        },
        "outputId": "f36149c4-3432-41e1-c332-379ad95774e6"
      },
      "source": [
        "y = np.asarray(customers['Exited'])\n",
        "y[0:5]"
      ],
      "execution_count": 13,
      "outputs": [
        {
          "output_type": "execute_result",
          "data": {
            "text/plain": [
              "array([1, 0, 1, 0, 0])"
            ]
          },
          "metadata": {
            "tags": []
          },
          "execution_count": 13
        }
      ]
    },
    {
      "cell_type": "markdown",
      "metadata": {
        "id": "8mu_h9eSS6oJ",
        "colab_type": "text"
      },
      "source": [
        "Then we normalise the data"
      ]
    },
    {
      "cell_type": "code",
      "metadata": {
        "id": "K6m0yeUfS0Fc",
        "colab_type": "code",
        "colab": {
          "base_uri": "https://localhost:8080/",
          "height": 198
        },
        "outputId": "ff5e4f39-8802-4de1-b2ee-eb5d4ff5af6f"
      },
      "source": [
        "from sklearn import preprocessing\n",
        "X = preprocessing.StandardScaler().fit(x).transform(x)\n",
        "\n",
        "X[0:5]"
      ],
      "execution_count": 16,
      "outputs": [
        {
          "output_type": "execute_result",
          "data": {
            "text/plain": [
              "array([[-0.32622142, -0.9025865 ,  0.29351742, -1.04175968, -1.22584767,\n",
              "        -0.91158349,  0.64609167,  0.97024255,  0.02188649],\n",
              "       [-0.44003595,  0.301665  ,  0.19816383, -1.38753759,  0.11735002,\n",
              "        -0.91158349, -1.54776799,  0.97024255,  0.21653375],\n",
              "       [-1.53679418, -0.9025865 ,  0.29351742,  1.03290776,  1.33305335,\n",
              "         2.52705662,  0.64609167, -1.03067011,  0.2406869 ],\n",
              "       [ 0.50152063, -0.9025865 ,  0.00745665, -1.38753759, -1.22584767,\n",
              "         0.80773656, -1.54776799, -1.03067011, -0.10891792],\n",
              "       [ 2.06388377,  0.301665  ,  0.38887101, -1.04175968,  0.7857279 ,\n",
              "        -0.91158349,  0.64609167,  0.97024255, -0.36527578]])"
            ]
          },
          "metadata": {
            "tags": []
          },
          "execution_count": 16
        }
      ]
    },
    {
      "cell_type": "markdown",
      "metadata": {
        "id": "5b8kYvmTTdmd",
        "colab_type": "text"
      },
      "source": [
        "##Tran and Test Sets"
      ]
    },
    {
      "cell_type": "code",
      "metadata": {
        "id": "VZgGyjn3TSDX",
        "colab_type": "code",
        "colab": {}
      },
      "source": [
        "from sklearn.model_selection import train_test_split\n",
        "X_train, X_test, y_train, y_test = train_test_split(X, y, test_size = 0.2, random_state = 4)"
      ],
      "execution_count": 17,
      "outputs": []
    },
    {
      "cell_type": "code",
      "metadata": {
        "id": "Db_PgMYbUHuk",
        "colab_type": "code",
        "colab": {
          "base_uri": "https://localhost:8080/",
          "height": 35
        },
        "outputId": "beb9cf16-125d-4a18-8535-6be75b3a69ae"
      },
      "source": [
        "X_train.shape"
      ],
      "execution_count": 19,
      "outputs": [
        {
          "output_type": "execute_result",
          "data": {
            "text/plain": [
              "(8000, 9)"
            ]
          },
          "metadata": {
            "tags": []
          },
          "execution_count": 19
        }
      ]
    },
    {
      "cell_type": "code",
      "metadata": {
        "id": "2s1d-JNnUKXo",
        "colab_type": "code",
        "colab": {
          "base_uri": "https://localhost:8080/",
          "height": 35
        },
        "outputId": "0e59a8e9-1698-4cd5-f3d6-75253974879c"
      },
      "source": [
        "X_test.shape"
      ],
      "execution_count": 20,
      "outputs": [
        {
          "output_type": "execute_result",
          "data": {
            "text/plain": [
              "(2000, 9)"
            ]
          },
          "metadata": {
            "tags": []
          },
          "execution_count": 20
        }
      ]
    },
    {
      "cell_type": "markdown",
      "metadata": {
        "id": "80OHSETlUW8y",
        "colab_type": "text"
      },
      "source": [
        "##Modeling - Logistic Regression with Scikitlearn"
      ]
    },
    {
      "cell_type": "code",
      "metadata": {
        "id": "4EGt3n3BURtn",
        "colab_type": "code",
        "colab": {
          "base_uri": "https://localhost:8080/",
          "height": 108
        },
        "outputId": "438f95e1-6452-47ba-eb3c-cb18eff72cb7"
      },
      "source": [
        "from sklearn.linear_model import LogisticRegression\n",
        "model = LogisticRegression(C = 0.01, solver = 'liblinear')\n",
        "model.fit(X_train, y_train)\n",
        "model"
      ],
      "execution_count": 22,
      "outputs": [
        {
          "output_type": "execute_result",
          "data": {
            "text/plain": [
              "LogisticRegression(C=0.01, class_weight=None, dual=False, fit_intercept=True,\n",
              "                   intercept_scaling=1, l1_ratio=None, max_iter=100,\n",
              "                   multi_class='auto', n_jobs=None, penalty='l2',\n",
              "                   random_state=None, solver='liblinear', tol=0.0001, verbose=0,\n",
              "                   warm_start=False)"
            ]
          },
          "metadata": {
            "tags": []
          },
          "execution_count": 22
        }
      ]
    },
    {
      "cell_type": "markdown",
      "metadata": {
        "id": "_6CnbhQMVqhL",
        "colab_type": "text"
      },
      "source": [
        "##Predictions"
      ]
    },
    {
      "cell_type": "code",
      "metadata": {
        "id": "AeU51rWXU3Zp",
        "colab_type": "code",
        "colab": {
          "base_uri": "https://localhost:8080/",
          "height": 35
        },
        "outputId": "0484cf79-b16c-4e09-9a9b-f6f26942c2da"
      },
      "source": [
        "predictions = model.predict(X_test)\n",
        "predictions"
      ],
      "execution_count": 24,
      "outputs": [
        {
          "output_type": "execute_result",
          "data": {
            "text/plain": [
              "array([0, 0, 0, ..., 0, 0, 0])"
            ]
          },
          "metadata": {
            "tags": []
          },
          "execution_count": 24
        }
      ]
    },
    {
      "cell_type": "markdown",
      "metadata": {
        "id": "NP_a6CY_VuQ1",
        "colab_type": "text"
      },
      "source": [
        "##Probability of Predictions"
      ]
    },
    {
      "cell_type": "code",
      "metadata": {
        "id": "BQewKS8NVeI6",
        "colab_type": "code",
        "colab": {
          "base_uri": "https://localhost:8080/",
          "height": 144
        },
        "outputId": "fc9dcbb4-1fdb-49f3-9b09-6c8f03431026"
      },
      "source": [
        "prob = model.predict_proba(X_test)\n",
        "prob"
      ],
      "execution_count": 25,
      "outputs": [
        {
          "output_type": "execute_result",
          "data": {
            "text/plain": [
              "array([[0.80704438, 0.19295562],\n",
              "       [0.7593952 , 0.2406048 ],\n",
              "       [0.8511893 , 0.1488107 ],\n",
              "       ...,\n",
              "       [0.74805396, 0.25194604],\n",
              "       [0.69736737, 0.30263263],\n",
              "       [0.88661288, 0.11338712]])"
            ]
          },
          "metadata": {
            "tags": []
          },
          "execution_count": 25
        }
      ]
    },
    {
      "cell_type": "markdown",
      "metadata": {
        "id": "-F7njxRiWBOZ",
        "colab_type": "text"
      },
      "source": [
        "##Model Evaluation"
      ]
    },
    {
      "cell_type": "markdown",
      "metadata": {
        "id": "hvbINYvdWNbi",
        "colab_type": "text"
      },
      "source": [
        "**Jaccard Index**"
      ]
    },
    {
      "cell_type": "code",
      "metadata": {
        "id": "ECqo9C_4V4b2",
        "colab_type": "code",
        "colab": {
          "base_uri": "https://localhost:8080/",
          "height": 35
        },
        "outputId": "a0144a11-8f99-4073-9232-1c3639d744f1"
      },
      "source": [
        "from sklearn.metrics import jaccard_similarity_score\n",
        "jaccard_similarity_score(y_test, predictions)"
      ],
      "execution_count": 26,
      "outputs": [
        {
          "output_type": "execute_result",
          "data": {
            "text/plain": [
              "0.8165"
            ]
          },
          "metadata": {
            "tags": []
          },
          "execution_count": 26
        }
      ]
    },
    {
      "cell_type": "markdown",
      "metadata": {
        "id": "b_EtGmQeWelb",
        "colab_type": "text"
      },
      "source": [
        "* The similarity of my predictions the actual values is 0.82 which can also be interpreted as *2 percent similarity "
      ]
    },
    {
      "cell_type": "markdown",
      "metadata": {
        "id": "rlLY7GOlWsD3",
        "colab_type": "text"
      },
      "source": [
        "**Confusion Matrix**"
      ]
    },
    {
      "cell_type": "code",
      "metadata": {
        "id": "1na0wkutWcem",
        "colab_type": "code",
        "colab": {
          "base_uri": "https://localhost:8080/",
          "height": 53
        },
        "outputId": "e3a64cb0-0d23-4ae8-b875-6c9444ed36ac"
      },
      "source": [
        "from sklearn.metrics import confusion_matrix\n",
        "confusion_matrix(y_test, predictions, labels = [1, 0])"
      ],
      "execution_count": 43,
      "outputs": [
        {
          "output_type": "execute_result",
          "data": {
            "text/plain": [
              "array([[  68,  328],\n",
              "       [  39, 1565]])"
            ]
          },
          "metadata": {
            "tags": []
          },
          "execution_count": 43
        }
      ]
    },
    {
      "cell_type": "markdown",
      "metadata": {
        "id": "zRE3DX2GXVym",
        "colab_type": "text"
      },
      "source": [
        "Lets visualise the confusion matrix to see the distribution of my predictions "
      ]
    },
    {
      "cell_type": "code",
      "metadata": {
        "id": "OPyvgc85XB0a",
        "colab_type": "code",
        "colab": {}
      },
      "source": [
        "import itertools\n",
        "import matplotlib.pyplot as plt\n",
        "\n",
        "\n",
        "def plot_confusion_matrix(cm, classes,\n",
        "                          normalize=False,\n",
        "                          title='Confusion matrix',\n",
        "                          cmap=plt.cm.Blues):# this function plots the confusion matrix\n",
        "  if normalize:\n",
        "        cm = cm.astype('float') / cm.sum(axis=1)[:, np.newaxis]\n",
        "        print(\"Normalized confusion matrix\")# this code normalises the values \n",
        "  else:\n",
        "        print('Confusion matrix, without normalization')\n",
        "  print(cm)\n",
        "\n",
        "  plt.imshow(cm, interpolation='nearest', cmap=cmap)\n",
        "  plt.title(title)\n",
        "  plt.colorbar()\n",
        "  tick_marks = np.arange(len(classes))\n",
        "  plt.xticks(tick_marks, classes, rotation=45)\n",
        "  plt.yticks(tick_marks, classes)\n",
        "\n",
        "  fmt = '.2f' if normalize else 'd'\n",
        "  thresh = cm.max() / 2.\n",
        "  for i, j in itertools.product(range(cm.shape[0]), range(cm.shape[1])):\n",
        "      plt.text(j, i, format(cm[i, j], fmt),\n",
        "                horizontalalignment=\"center\",\n",
        "                color=\"white\" if cm[i, j] > thresh else \"black\")\n",
        "\n",
        "  plt.tight_layout()\n",
        "  plt.ylabel('Actual')\n",
        "  plt.xlabel('Predicted')"
      ],
      "execution_count": 53,
      "outputs": []
    },
    {
      "cell_type": "code",
      "metadata": {
        "id": "VLFFTd5KZDdb",
        "colab_type": "code",
        "colab": {}
      },
      "source": [
        "con_matrix = confusion_matrix(y_test, predictions, labels = [0, 1])\n",
        "np.set_printoptions(precision = 2)"
      ],
      "execution_count": 60,
      "outputs": []
    },
    {
      "cell_type": "code",
      "metadata": {
        "id": "pb5p8MbSbvlm",
        "colab_type": "code",
        "colab": {
          "base_uri": "https://localhost:8080/",
          "height": 510
        },
        "outputId": "33c478a0-6719-4b0c-d760-015e88fb9b6d"
      },
      "source": [
        "plt.figure(figsize = (10, 6))\n",
        "plot_confusion_matrix(con_matrix, classes = ['Exited = 1', 'Exited = 0'], normalize = False,\n",
        "                      title = 'CONFUSION MATRIX OF THE MODEL')\n",
        "plt.show()"
      ],
      "execution_count": 61,
      "outputs": [
        {
          "output_type": "stream",
          "text": [
            "Confusion matrix, without normalization\n",
            "[[1565   39]\n",
            " [ 328   68]]\n"
          ],
          "name": "stdout"
        },
        {
          "output_type": "display_data",
          "data": {
            "image/png": "[encoded data removed]",
            "text/plain": [
              "<Figure size 720x432 with 2 Axes>"
            ]
          },
          "metadata": {
            "tags": [],
            "needs_background": "light"
          }
        }
      ]
    },
    {
      "cell_type": "markdown",
      "metadata": {
        "id": "8nfRvXW5gWtq",
        "colab_type": "text"
      },
      "source": [
        "Below are the observations from the confusion matrix\n",
        "* My model predicted that there are 1893 customers who have exited when in fact they are 1604 in number \n",
        "* My model predicted that 107 customers are still with the bank when in fact they are 396 in number \n",
        "\n",
        "The model performed quite well for out of sample predictions "
      ]
    },
    {
      "cell_type": "markdown",
      "metadata": {
        "id": "75uBbB3deIFg",
        "colab_type": "text"
      },
      "source": [
        "**Classification Report**"
      ]
    },
    {
      "cell_type": "code",
      "metadata": {
        "id": "C71K7kYIdAWQ",
        "colab_type": "code",
        "colab": {
          "base_uri": "https://localhost:8080/",
          "height": 180
        },
        "outputId": "f2f6ab06-6096-4a39-d82f-e78c82d02659"
      },
      "source": [
        "from sklearn.metrics import classification_report\n",
        "print(classification_report(y_test, predictions))"
      ],
      "execution_count": 58,
      "outputs": [
        {
          "output_type": "stream",
          "text": [
            "              precision    recall  f1-score   support\n",
            "\n",
            "           0       0.83      0.98      0.90      1604\n",
            "           1       0.64      0.17      0.27       396\n",
            "\n",
            "    accuracy                           0.82      2000\n",
            "   macro avg       0.73      0.57      0.58      2000\n",
            "weighted avg       0.79      0.82      0.77      2000\n",
            "\n"
          ],
          "name": "stdout"
        }
      ]
    },
    {
      "cell_type": "markdown",
      "metadata": {
        "id": "hDOn0wQFfSyu",
        "colab_type": "text"
      },
      "source": [
        "Here we can see the number of true responses for 0  and 1 under the support column "
      ]
    }
  ]
}